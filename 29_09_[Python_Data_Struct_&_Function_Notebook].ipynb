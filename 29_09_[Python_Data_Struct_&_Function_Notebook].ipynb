{
  "nbformat": 4,
  "nbformat_minor": 0,
  "metadata": {
    "colab": {
      "name": "29-09 [Python Data Struct & Function Notebook].ipynb",
      "provenance": [],
      "collapsed_sections": [],
      "authorship_tag": "ABX9TyPazXNIE3kEfYQ6TtFJYgE1",
      "include_colab_link": true
    },
    "kernelspec": {
      "name": "python3",
      "display_name": "Python 3"
    },
    "language_info": {
      "name": "python"
    }
  },
  "cells": [
    {
      "cell_type": "markdown",
      "metadata": {
        "id": "view-in-github",
        "colab_type": "text"
      },
      "source": [
        "<a href=\"https://colab.research.google.com/github/RenaldoFrz/Software_Engineer_Renaldo_Fareza/blob/main/29_09_%5BPython_Data_Struct_%26_Function_Notebook%5D.ipynb\" target=\"_parent\"><img src=\"https://colab.research.google.com/assets/colab-badge.svg\" alt=\"Open In Colab\"/></a>"
      ]
    },
    {
      "cell_type": "code",
      "metadata": {
        "id": "4_2ctAqrbTkw"
      },
      "source": [
        "# List ()\n",
        "# Dict {}\n",
        "# Set {}\n",
        "# Tuple ()\n",
        "# Looping\n",
        "# Function "
      ],
      "execution_count": 1,
      "outputs": []
    },
    {
      "cell_type": "code",
      "metadata": {
        "colab": {
          "base_uri": "https://localhost:8080/"
        },
        "id": "bGTDsoNrdjFI",
        "outputId": "7e4284bd-7e71-4edb-c448-b377d47455de"
      },
      "source": [
        "# List \n",
        "# Zero indexing [0]\n",
        "contoh_list = ['Aldo', 12, 12.0, ['David', 'Dian'], {}, (), True]\n",
        "print(contoh_list[0])\n",
        "print(contoh_list[-1])"
      ],
      "execution_count": 3,
      "outputs": [
        {
          "output_type": "stream",
          "name": "stdout",
          "text": [
            "Aldo\n",
            "True\n"
          ]
        }
      ]
    },
    {
      "cell_type": "code",
      "metadata": {
        "colab": {
          "base_uri": "https://localhost:8080/"
        },
        "id": "-lLkJz-8d_Fx",
        "outputId": "1afa0daf-71bc-4e28-a243-538081ac44a6"
      },
      "source": [
        "# Dictionary\n",
        "# Using key for access the value\n",
        "contoh_dict = {\n",
        "    2 : \"Aldo\",\n",
        "    \"Dua puluh\" : 20,\n",
        "    False : 12.0,\n",
        "    3.32 : ['David', 'Dian'],\n",
        "    \"Dict\" : {\n",
        "        \"data\" : \"basis\",\n",
        "        \"fungi\" : \"jamur\"\n",
        "    },\n",
        "    300 : (),\n",
        "    \"Boolean\" : False,\n",
        "}\n",
        "print(contoh_dict[\"Dict\"])\n",
        "print(contoh_dict[3.32])\n",
        "\n",
        "# Method in Dict\n",
        "# 1. Showing keys in the dict\n",
        "contoh_dict.keys()\n",
        "\n",
        "# 2. Adding new value into the dict\n",
        "contoh_dict[\"Soft Eng\"] = 100\n",
        "print(contoh_dict)\n",
        "# !! If you want to add multiple value in on key, it must convert into a list [100]\n",
        "\n",
        "# 3. Removing value in dict\n",
        "contoh_dict.pop(\"Dua puluh\")\n",
        "print(contoh_dict)\n",
        "# !! In other way, you can use \n",
        "# del contoh_dict[\"Dua puluh\"]"
      ],
      "execution_count": 47,
      "outputs": [
        {
          "output_type": "stream",
          "name": "stdout",
          "text": [
            "{'data': 'basis', 'fungi': 'jamur'}\n",
            "['David', 'Dian']\n",
            "{2: 'Aldo', 'Dua puluh': 20, False: 12.0, 3.32: ['David', 'Dian'], 'Dict': {'data': 'basis', 'fungi': 'jamur'}, 300: (), 'Boolean': False, 'Soft Eng': 100}\n",
            "{2: 'Aldo', False: 12.0, 3.32: ['David', 'Dian'], 'Dict': {'data': 'basis', 'fungi': 'jamur'}, 300: (), 'Boolean': False, 'Soft Eng': 100}\n"
          ]
        }
      ]
    },
    {
      "cell_type": "code",
      "metadata": {
        "colab": {
          "base_uri": "https://localhost:8080/"
        },
        "id": "JjsWUBRGeqTt",
        "outputId": "2851c349-1fe9-4b61-fd63-d2dbd6210e36"
      },
      "source": [
        "# Method in list\n",
        "# 1. append => inserting value into the last index of list\n",
        "list1 = [3,1,2,4,5,6]\n",
        "print(list1)\n",
        "list1.append(\"String\")\n",
        "print(list1)"
      ],
      "execution_count": 24,
      "outputs": [
        {
          "output_type": "stream",
          "name": "stdout",
          "text": [
            "[3, 1, 2, 4, 5, 6]\n",
            "[3, 1, 2, 4, 5, 6, 'String']\n"
          ]
        }
      ]
    },
    {
      "cell_type": "code",
      "metadata": {
        "colab": {
          "base_uri": "https://localhost:8080/"
        },
        "id": "O0bzDrjdgDrb",
        "outputId": "ad787a4d-9865-4fcb-ec99-2494d46eb9b7"
      },
      "source": [
        "# 2. insert => inserting value with determine the index of list\n",
        "list1.insert(4, \"Aldo\")\n",
        "print(list1)"
      ],
      "execution_count": 25,
      "outputs": [
        {
          "output_type": "stream",
          "name": "stdout",
          "text": [
            "[3, 1, 2, 4, 'Aldo', 5, 6, 'String']\n"
          ]
        }
      ]
    },
    {
      "cell_type": "code",
      "metadata": {
        "colab": {
          "base_uri": "https://localhost:8080/"
        },
        "id": "nAxnRavdgSDb",
        "outputId": "afd85547-39bc-40e6-e0cf-70a3448c802e"
      },
      "source": [
        "# 3. sort => Sorting the value \n",
        "list_angka = [9, 0, 5, 4, 1, 2]\n",
        "list_angka.sort()\n",
        "list_angka"
      ],
      "execution_count": 34,
      "outputs": [
        {
          "output_type": "execute_result",
          "data": {
            "text/plain": [
              "[0, 1, 2, 4, 5, 9]"
            ]
          },
          "metadata": {},
          "execution_count": 34
        }
      ]
    },
    {
      "cell_type": "code",
      "metadata": {
        "colab": {
          "base_uri": "https://localhost:8080/"
        },
        "id": "k_GKPb-sggqO",
        "outputId": "4c643d46-d4e9-4459-fa9e-30db6ab0170f"
      },
      "source": [
        "# 4. pop => removing the value from the last index\n",
        "list_angka.pop()\n",
        "list_angka"
      ],
      "execution_count": 35,
      "outputs": [
        {
          "output_type": "execute_result",
          "data": {
            "text/plain": [
              "[0, 1, 2, 4, 5]"
            ]
          },
          "metadata": {},
          "execution_count": 35
        }
      ]
    },
    {
      "cell_type": "code",
      "metadata": {
        "colab": {
          "base_uri": "https://localhost:8080/"
        },
        "id": "cVr0vBXXgzdH",
        "outputId": "4a97ff40-f090-44ad-ebe1-cce4e13a2a86"
      },
      "source": [
        "# 5. remove => removing the value with determine value and index\n",
        "list_angka.remove(0) # value\n",
        "list_angka\n",
        "list_angka.remove(list_angka[2]) #index\n",
        "list_angka"
      ],
      "execution_count": 36,
      "outputs": [
        {
          "output_type": "execute_result",
          "data": {
            "text/plain": [
              "[1, 2, 5]"
            ]
          },
          "metadata": {},
          "execution_count": 36
        }
      ]
    },
    {
      "cell_type": "code",
      "metadata": {
        "colab": {
          "base_uri": "https://localhost:8080/"
        },
        "id": "LVdh9oHHhMxq",
        "outputId": "76eaf444-02cb-410e-b5ac-1a7b595dbf86"
      },
      "source": [
        "# Set !! Can't be call in code\n",
        "list_angka = [9,7,4,1,7]\n",
        "list_angka\n",
        "# Conversion list to set\n",
        "set_angka = set(list_angka)\n",
        "set_angka\n",
        "# Convertion set to list\n",
        "list_angka = list(set_angka)\n",
        "list_angka"
      ],
      "execution_count": 40,
      "outputs": [
        {
          "output_type": "execute_result",
          "data": {
            "text/plain": [
              "[9, 4, 1, 7]"
            ]
          },
          "metadata": {},
          "execution_count": 40
        }
      ]
    },
    {
      "cell_type": "code",
      "metadata": {
        "colab": {
          "base_uri": "https://localhost:8080/"
        },
        "id": "pVjQzAYjhahF",
        "outputId": "a7a26649-df80-4a07-d341-090a26a15ca8"
      },
      "source": [
        "# Tuple !! Can't change the value but we still can call it\n",
        "tuple_angka = (1,3,5,7,9,7)\n",
        "tuple_angka[4]"
      ],
      "execution_count": 42,
      "outputs": [
        {
          "output_type": "execute_result",
          "data": {
            "text/plain": [
              "9"
            ]
          },
          "metadata": {},
          "execution_count": 42
        }
      ]
    },
    {
      "cell_type": "code",
      "metadata": {
        "colab": {
          "base_uri": "https://localhost:8080/"
        },
        "id": "kHdxE8omiqqb",
        "outputId": "3d86406a-b199-455e-9681-68fb79af1a3b"
      },
      "source": [
        "# Looping \n",
        "# 1. for loop\n",
        "for i in range(10):\n",
        "  print(\"Hai {}\".format(i))\n",
        "\n",
        "for i in range(1,11,1): # starting_value, < max_value, increment/decrement_value\n",
        "  print(\"Hai {}\".format(i))"
      ],
      "execution_count": 53,
      "outputs": [
        {
          "output_type": "stream",
          "name": "stdout",
          "text": [
            "Hai 0\n",
            "Hai 1\n",
            "Hai 2\n",
            "Hai 3\n",
            "Hai 4\n",
            "Hai 5\n",
            "Hai 6\n",
            "Hai 7\n",
            "Hai 8\n",
            "Hai 9\n",
            "Hai 1\n",
            "Hai 2\n",
            "Hai 3\n",
            "Hai 4\n",
            "Hai 5\n",
            "Hai 6\n",
            "Hai 7\n",
            "Hai 8\n",
            "Hai 9\n",
            "Hai 10\n"
          ]
        }
      ]
    },
    {
      "cell_type": "code",
      "metadata": {
        "colab": {
          "base_uri": "https://localhost:8080/"
        },
        "id": "LUlLlwR4k8-A",
        "outputId": "841db848-654d-4f2f-a6e4-5b5f88a62d14"
      },
      "source": [
        "# 2. while looping\n",
        "a = 0\n",
        "while a < 20 : \n",
        "  print(\"{} masih lebih kecil dari 20\".format(a))\n",
        "  a += 1"
      ],
      "execution_count": 61,
      "outputs": [
        {
          "name": "stdout",
          "output_type": "stream",
          "text": [
            "0 masih lebih kecil dari 20\n",
            "1 masih lebih kecil dari 20\n",
            "2 masih lebih kecil dari 20\n",
            "3 masih lebih kecil dari 20\n",
            "4 masih lebih kecil dari 20\n",
            "5 masih lebih kecil dari 20\n",
            "6 masih lebih kecil dari 20\n",
            "7 masih lebih kecil dari 20\n",
            "8 masih lebih kecil dari 20\n",
            "9 masih lebih kecil dari 20\n",
            "10 masih lebih kecil dari 20\n",
            "11 masih lebih kecil dari 20\n",
            "12 masih lebih kecil dari 20\n",
            "13 masih lebih kecil dari 20\n",
            "14 masih lebih kecil dari 20\n",
            "15 masih lebih kecil dari 20\n",
            "16 masih lebih kecil dari 20\n",
            "17 masih lebih kecil dari 20\n",
            "18 masih lebih kecil dari 20\n",
            "19 masih lebih kecil dari 20\n",
            "18\n"
          ]
        }
      ]
    },
    {
      "cell_type": "code",
      "metadata": {
        "colab": {
          "base_uri": "https://localhost:8080/"
        },
        "id": "jNItuOKKlZZS",
        "outputId": "5edad3b3-d2bc-401d-a384-8cf6f84914c6"
      },
      "source": [
        "# study case: Input umur user yang tidak boleh dibawah 18 tahun\n",
        "while True: \n",
        "  umur = int(input())\n",
        "  if umur == 17: \n",
        "    continue\n",
        "  elif umur > 17: \n",
        "    break\n",
        "  print(\"Jika dibawah um1ur 17 aku muncul\")"
      ],
      "execution_count": 62,
      "outputs": [
        {
          "name": "stdout",
          "output_type": "stream",
          "text": [
            "13\n",
            "Jika dibawah uur 17 aku muncul\n",
            "12\n",
            "Jika dibawah uur 17 aku muncul\n",
            "11\n",
            "Jika dibawah uur 17 aku muncul\n",
            "17\n",
            "18\n"
          ]
        }
      ]
    },
    {
      "cell_type": "code",
      "metadata": {
        "colab": {
          "base_uri": "https://localhost:8080/"
        },
        "id": "gAIMsVh3nZdm",
        "outputId": "7fe720b3-7b8a-44b8-a8b5-97bcbaaf0900"
      },
      "source": [
        "# 3. for else\n",
        "for i in range(0,10,1):\n",
        "  print(i)\n",
        "  if i == 2:\n",
        "    continue\n",
        "\n",
        "else:\n",
        "  print(\"Aku akan muncul jika break tidak tereksekusi\")"
      ],
      "execution_count": 64,
      "outputs": [
        {
          "output_type": "stream",
          "name": "stdout",
          "text": [
            "0\n",
            "1\n",
            "2\n",
            "3\n",
            "4\n",
            "5\n",
            "6\n",
            "7\n",
            "8\n",
            "9\n",
            "Aku akan muncul jika break tidak tereksekusi\n"
          ]
        }
      ]
    },
    {
      "cell_type": "code",
      "metadata": {
        "colab": {
          "base_uri": "https://localhost:8080/"
        },
        "id": "gv24pulMpvx6",
        "outputId": "23943bac-44ba-4cbf-fc02-10c88650a18b"
      },
      "source": [
        "# 4. for in (list/dict)\n",
        "for i in list_angka:\n",
        "  print(i)\n",
        "\n",
        "for char in \" Renaldo Fareza\":\n",
        "  print(char)"
      ],
      "execution_count": 70,
      "outputs": [
        {
          "output_type": "stream",
          "name": "stdout",
          "text": [
            "9\n",
            "4\n",
            "1\n",
            "7\n",
            " \n",
            "R\n",
            "e\n",
            "n\n",
            "a\n",
            "l\n",
            "d\n",
            "o\n",
            " \n",
            "F\n",
            "a\n",
            "r\n",
            "e\n",
            "z\n",
            "a\n"
          ]
        }
      ]
    },
    {
      "cell_type": "code",
      "metadata": {
        "colab": {
          "base_uri": "https://localhost:8080/"
        },
        "id": "6qocMYcnqbqp",
        "outputId": "d69dbfde-e0b9-4b40-96ef-bb45a61a5bb9"
      },
      "source": [
        "list_angka = [1,2,3,4,\"lima\",6,7,8,9,0]\n",
        "for nilai in list_angka:\n",
        "  if nilai == 0:\n",
        "    list_angka.remove(nilai)\n",
        "list_angka"
      ],
      "execution_count": 74,
      "outputs": [
        {
          "output_type": "execute_result",
          "data": {
            "text/plain": [
              "[1, 2, 3, 4, 'lima', 6, 7, 8, 9]"
            ]
          },
          "metadata": {},
          "execution_count": 74
        }
      ]
    },
    {
      "cell_type": "code",
      "metadata": {
        "colab": {
          "base_uri": "https://localhost:8080/"
        },
        "id": "Q78znuN-rNmc",
        "outputId": "b7431ada-59b5-4262-85f1-4a6e8d204fd7"
      },
      "source": [
        "list_angka = [1,2,3,4,\"lima\",6,7,8,9,0]\n",
        "for index, nilai in enumerate(list_angka):\n",
        "  if nilai == 0:\n",
        "    list_angka[index] = \"Nol\"\n",
        "\n",
        "list_angka"
      ],
      "execution_count": 80,
      "outputs": [
        {
          "output_type": "execute_result",
          "data": {
            "text/plain": [
              "[1, 2, 3, 4, 'lima', 6, 7, 8, 9, 'Nol']"
            ]
          },
          "metadata": {},
          "execution_count": 80
        }
      ]
    },
    {
      "cell_type": "code",
      "metadata": {
        "colab": {
          "base_uri": "https://localhost:8080/"
        },
        "id": "nns6JN4Xnmn0",
        "outputId": "77bf6a97-ea66-4e2c-dc11-447c1a0a1565"
      },
      "source": [
        "# Function\n",
        "# It would be better for the function with return value rather than print\n",
        "def lebih_besar(a, b):\n",
        "  if a > b: return a\n",
        "  else: return b\n",
        "\n",
        "print(lebih_besar(3,10))"
      ],
      "execution_count": 67,
      "outputs": [
        {
          "output_type": "stream",
          "name": "stdout",
          "text": [
            "10\n"
          ]
        }
      ]
    },
    {
      "cell_type": "code",
      "metadata": {
        "id": "Lz6pKmftoCjT"
      },
      "source": [
        "# Additional note\n",
        "# 1. type() =>  to check the type of object"
      ],
      "execution_count": null,
      "outputs": []
    }
  ]
}