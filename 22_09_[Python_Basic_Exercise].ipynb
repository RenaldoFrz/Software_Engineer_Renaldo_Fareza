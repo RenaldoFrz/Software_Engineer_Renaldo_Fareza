{
  "nbformat": 4,
  "nbformat_minor": 0,
  "metadata": {
    "colab": {
      "name": "22-09 [Python Basic Exercise].ipynb",
      "provenance": [],
      "authorship_tag": "ABX9TyN428VZ2DUK8t/pc/qfJc6k",
      "include_colab_link": true
    },
    "kernelspec": {
      "name": "python3",
      "display_name": "Python 3"
    },
    "language_info": {
      "name": "python"
    }
  },
  "cells": [
    {
      "cell_type": "markdown",
      "metadata": {
        "id": "view-in-github",
        "colab_type": "text"
      },
      "source": [
        "<a href=\"https://colab.research.google.com/github/RenaldoFrz/Software_Engineer_Renaldo_Fareza/blob/main/22_09_%5BPython_Basic_Exercise%5D.ipynb\" target=\"_parent\"><img src=\"https://colab.research.google.com/assets/colab-badge.svg\" alt=\"Open In Colab\"/></a>"
      ]
    },
    {
      "cell_type": "code",
      "metadata": {
        "colab": {
          "base_uri": "https://localhost:8080/"
        },
        "id": "FTNpXmD4eObz",
        "outputId": "e15368c9-a28b-45de-fe3e-8fcf07e6d57e"
      },
      "source": [
        "# Name: Renaldo Fareza Tambunan\n",
        "# ID: 001201900084\n",
        "# Case: AND Gate \n",
        "\n",
        "print(\"AND GATE TRUTH TABLE\")\n",
        "print(\"True AND True: \", True and True)\n",
        "print(\"True AND False: \", True and False)\n",
        "print(\"False AND True: \", False and True)\n",
        "print(\"False AND False: \", False and False)"
      ],
      "execution_count": null,
      "outputs": [
        {
          "output_type": "stream",
          "name": "stdout",
          "text": [
            "True AND True:  True\n",
            "True AND False:  False\n",
            "False AND True:  False\n",
            "False AND False:  False\n"
          ]
        }
      ]
    }
  ]
}