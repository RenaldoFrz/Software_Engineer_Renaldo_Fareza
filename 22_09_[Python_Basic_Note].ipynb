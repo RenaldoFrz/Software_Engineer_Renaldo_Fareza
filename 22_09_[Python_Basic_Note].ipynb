{
  "nbformat": 4,
  "nbformat_minor": 0,
  "metadata": {
    "colab": {
      "name": "22-09 [Python Basic Note].ipynb",
      "provenance": [],
      "collapsed_sections": [],
      "authorship_tag": "ABX9TyOjDSv0DIjYw3Ag27Jmji2Z",
      "include_colab_link": true
    },
    "kernelspec": {
      "name": "python3",
      "display_name": "Python 3"
    },
    "language_info": {
      "name": "python"
    }
  },
  "cells": [
    {
      "cell_type": "markdown",
      "metadata": {
        "id": "view-in-github",
        "colab_type": "text"
      },
      "source": [
        "<a href=\"https://colab.research.google.com/github/RenaldoFrz/Software_Engineer_Renaldo_Fareza/blob/main/22_09_%5BPython_Basic_Note%5D.ipynb\" target=\"_parent\"><img src=\"https://colab.research.google.com/assets/colab-badge.svg\" alt=\"Open In Colab\"/></a>"
      ]
    },
    {
      "cell_type": "code",
      "metadata": {
        "id": "tDX4mvGeVk-8"
      },
      "source": [
        "# Contoh penggunaan Variabel\n",
        "a = 10 # Integer\n",
        "b = 3.14 # Float\n",
        "c = \"A\" # String\n",
        "d = 'Aldo' # String\n",
        "e = \"Softwer Engineer\" # String\n",
        "f = True # Boolean\n",
        "g = [] # Initialize List\n",
        "h = [1,2,3] # List with value \n",
        "i = {} # Dictionary \n",
        "j = () # Tuple"
      ],
      "execution_count": null,
      "outputs": []
    },
    {
      "cell_type": "code",
      "metadata": {
        "colab": {
          "base_uri": "https://localhost:8080/"
        },
        "id": "Yd_sSAeXbggP",
        "outputId": "8aafc322-6eaa-4a59-b66e-e68febc2cfdf"
      },
      "source": [
        "# Print -- Untuk debugging\n",
        "print(a + b)\n",
        "print(d)\n",
        "print(f)\n",
        "print(h)"
      ],
      "execution_count": null,
      "outputs": [
        {
          "output_type": "stream",
          "name": "stdout",
          "text": [
            "13.14\n",
            "Aldo\n",
            "True\n",
            "[1, 2, 3]\n"
          ]
        }
      ]
    },
    {
      "cell_type": "code",
      "metadata": {
        "colab": {
          "base_uri": "https://localhost:8080/"
        },
        "id": "8XfcQisPehHR",
        "outputId": "b3d4f6fe-0416-4263-ffa7-0a9e0a9b47e6"
      },
      "source": [
        "nama = \"Aldo\"\n",
        "umur = 19\n",
        "domisili = 'Jambi'\n",
        "\n",
        "#Concatination\n",
        "print(\"Hai namaku adalah \" + nama) # Sedikit ribet dalam penggunaan kalimat panjang dan memerlukan konveri tipe data\n",
        "print(\"Umurku : {}\".format(umur))\n",
        "print(\"Aku {}, umur {}, dan tinggal di {} \".format(nama, umur, domisili))"
      ],
      "execution_count": null,
      "outputs": [
        {
          "output_type": "stream",
          "name": "stdout",
          "text": [
            "Hai namaku adalah Aldo\n",
            "Umurku : 19\n",
            "Aku Aldo, umur 19, dan tinggal di Jambi \n"
          ]
        }
      ]
    },
    {
      "cell_type": "code",
      "metadata": {
        "colab": {
          "base_uri": "https://localhost:8080/"
        },
        "id": "SAxyu57af6V7",
        "outputId": "dced01c7-62d7-4842-b686-0fbe341f2fae"
      },
      "source": [
        "# Input User\n",
        "nama = input()"
      ],
      "execution_count": null,
      "outputs": [
        {
          "name": "stdout",
          "output_type": "stream",
          "text": [
            "Renaldo\n"
          ]
        }
      ]
    },
    {
      "cell_type": "code",
      "metadata": {
        "colab": {
          "base_uri": "https://localhost:8080/"
        },
        "id": "Im9SX2NIg5E9",
        "outputId": "398dfa86-5e95-4dc3-d74e-005ae9a47afe"
      },
      "source": [
        "print(\"Aku {}, umur {}, dan tinggal di {} \".format(nama, umur, domisili))"
      ],
      "execution_count": null,
      "outputs": [
        {
          "output_type": "stream",
          "name": "stdout",
          "text": [
            "Aku Renaldo, umur 19, dan tinggal di Jambi \n"
          ]
        }
      ]
    },
    {
      "cell_type": "code",
      "metadata": {
        "id": "girlmIpGg7C6"
      },
      "source": [
        "# Condition - if else\n",
        "a = 10\n",
        "b = 10\n",
        "## Conditional Statement\n",
        "a == b # Jika nilai a sama dengan b\n",
        "a != b # Jika nilai a tidak sama dengan b\n",
        "a < b\n",
        "a <= b\n",
        "a > b\n",
        "a >= b\n",
        "True and True \n",
        "True or False\n",
        "\n",
        "## Operator\n",
        "a + b\n",
        "a - b\n",
        "a * b\n",
        "a / b # Float division = 1.0\n",
        "a // b # Int division = 1\n",
        "a ** b # Square\n",
        "a % b # Modulo\n",
        "a ** (1/2) # SQRT tanpa built-in\n",
        "Math.sqrt(a) # SQRT dengan import math"
      ],
      "execution_count": null,
      "outputs": []
    },
    {
      "cell_type": "code",
      "metadata": {
        "colab": {
          "base_uri": "https://localhost:8080/"
        },
        "id": "eIsJS72kkYZU",
        "outputId": "375a2500-76e2-4ada-d9a7-8d53370610e2"
      },
      "source": [
        "if a == 10:\n",
        "  print(\"Nilai a sama dengan 10\") # Menggunakan indentasi\n",
        "elif a > 10:\n",
        "  print(\"Nilai a lebih besar dari 10\")\n",
        "else:\n",
        "  print(\"Nilai a kurang dari 10\")\n",
        "print(\"Outner of if statement\")"
      ],
      "execution_count": null,
      "outputs": [
        {
          "output_type": "stream",
          "name": "stdout",
          "text": [
            "Nilai a sama dengan 10\n",
            "Outner of if statement\n"
          ]
        }
      ]
    }
  ]
}