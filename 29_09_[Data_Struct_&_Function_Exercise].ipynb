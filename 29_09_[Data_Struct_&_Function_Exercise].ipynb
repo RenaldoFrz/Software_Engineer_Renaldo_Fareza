{
  "nbformat": 4,
  "nbformat_minor": 0,
  "metadata": {
    "colab": {
      "name": "29-09 [Data Struct & Function Exercise].ipynb",
      "provenance": [],
      "include_colab_link": true
    },
    "kernelspec": {
      "name": "python3",
      "display_name": "Python 3"
    },
    "language_info": {
      "name": "python"
    }
  },
  "cells": [
    {
      "cell_type": "markdown",
      "metadata": {
        "id": "view-in-github",
        "colab_type": "text"
      },
      "source": [
        "<a href=\"https://colab.research.google.com/github/RenaldoFrz/Software_Engineer_Renaldo_Fareza/blob/main/29_09_%5BData_Struct_%26_Function_Exercise%5D.ipynb\" target=\"_parent\"><img src=\"https://colab.research.google.com/assets/colab-badge.svg\" alt=\"Open In Colab\"/></a>"
      ]
    },
    {
      "cell_type": "markdown",
      "metadata": {
        "id": "vmVqOGjaz6ES"
      },
      "source": [
        "# Exercise 2 - Area of Circle\n",
        "##### Francis & Renaldo Fareza"
      ]
    },
    {
      "cell_type": "code",
      "metadata": {
        "id": "MeTUcFRzw6-G"
      },
      "source": [
        "import math\n",
        "def luas_lingkaran(a):\n",
        "  return math.pi * a * a"
      ],
      "execution_count": 1,
      "outputs": []
    },
    {
      "cell_type": "code",
      "metadata": {
        "colab": {
          "base_uri": "https://localhost:8080/"
        },
        "id": "JTk0rNAayn03",
        "outputId": "b910d452-43d1-4407-f089-522ae8970f4d"
      },
      "source": [
        "print(\"Masukan jari-jari dari lingkaran:\")\n",
        "jari_jari = int(input())\n",
        "Luas = luas_lingkaran(jari_jari)\n",
        "print(f\"Luas lingkaran yang jari-jarinya {jari_jari} adalah {Luas}\")"
      ],
      "execution_count": 2,
      "outputs": [
        {
          "output_type": "stream",
          "name": "stdout",
          "text": [
            "Masukan jari-jari dari lingkaran:\n",
            "4\n",
            "Luas lingkaran yang jari-jarinya 4 adalah 50.26548245743669\n"
          ]
        }
      ]
    }
  ]
}